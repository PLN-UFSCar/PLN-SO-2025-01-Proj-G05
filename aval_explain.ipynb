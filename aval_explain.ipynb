{
 "cells": [
  {
   "cell_type": "code",
   "execution_count": 1,
   "id": "ea0d51ae",
   "metadata": {},
   "outputs": [],
   "source": [
    "import pandas as pd"
   ]
  },
  {
   "cell_type": "code",
   "execution_count": 2,
   "id": "64ef31aa",
   "metadata": {},
   "outputs": [],
   "source": [
    "df_explain = pd.read_csv('explain.csv')"
   ]
  },
  {
   "cell_type": "code",
   "execution_count": 3,
   "id": "615f7890",
   "metadata": {},
   "outputs": [
    {
     "data": {
      "text/html": [
       "<div>\n",
       "<style scoped>\n",
       "    .dataframe tbody tr th:only-of-type {\n",
       "        vertical-align: middle;\n",
       "    }\n",
       "\n",
       "    .dataframe tbody tr th {\n",
       "        vertical-align: top;\n",
       "    }\n",
       "\n",
       "    .dataframe thead th {\n",
       "        text-align: right;\n",
       "    }\n",
       "</style>\n",
       "<table border=\"1\" class=\"dataframe\">\n",
       "  <thead>\n",
       "    <tr style=\"text-align: right;\">\n",
       "      <th></th>\n",
       "      <th>text</th>\n",
       "      <th>hatewords</th>\n",
       "    </tr>\n",
       "  </thead>\n",
       "  <tbody>\n",
       "    <tr>\n",
       "      <th>0</th>\n",
       "      <td>RT @maathbz: to pensando em virar PM só pra mu...</td>\n",
       "      <td>NaN</td>\n",
       "    </tr>\n",
       "    <tr>\n",
       "      <th>1</th>\n",
       "      <td>Minha ideologia é o Brasil, deixa o povo ficar...</td>\n",
       "      <td>NaN</td>\n",
       "    </tr>\n",
       "    <tr>\n",
       "      <th>2</th>\n",
       "      <td>@user @user o bixo do busao carai kkkkjjjjj</td>\n",
       "      <td>bixo</td>\n",
       "    </tr>\n",
       "    <tr>\n",
       "      <th>3</th>\n",
       "      <td>#joicetraidora</td>\n",
       "      <td>traidora</td>\n",
       "    </tr>\n",
       "    <tr>\n",
       "      <th>4</th>\n",
       "      <td>Pirralha!!!</td>\n",
       "      <td>pirralha</td>\n",
       "    </tr>\n",
       "    <tr>\n",
       "      <th>...</th>\n",
       "      <td>...</td>\n",
       "      <td>...</td>\n",
       "    </tr>\n",
       "    <tr>\n",
       "      <th>495</th>\n",
       "      <td>rt @user bangu só existe dois climas: frio da ...</td>\n",
       "      <td>porra,caralho</td>\n",
       "    </tr>\n",
       "    <tr>\n",
       "      <th>496</th>\n",
       "      <td>gastei tipo bicho esse mês e não posso mais ga...</td>\n",
       "      <td>NaN</td>\n",
       "    </tr>\n",
       "    <tr>\n",
       "      <th>497</th>\n",
       "      <td>oi posso te chamar? — chama ue</td>\n",
       "      <td>NaN</td>\n",
       "    </tr>\n",
       "    <tr>\n",
       "      <th>498</th>\n",
       "      <td>Que exemplo</td>\n",
       "      <td>NaN</td>\n",
       "    </tr>\n",
       "    <tr>\n",
       "      <th>499</th>\n",
       "      <td>rt @user o primeiro requisito para fazer parte...</td>\n",
       "      <td>mau,caráter,oportunista</td>\n",
       "    </tr>\n",
       "  </tbody>\n",
       "</table>\n",
       "<p>500 rows × 2 columns</p>\n",
       "</div>"
      ],
      "text/plain": [
       "                                                  text  \\\n",
       "0    RT @maathbz: to pensando em virar PM só pra mu...   \n",
       "1    Minha ideologia é o Brasil, deixa o povo ficar...   \n",
       "2          @user @user o bixo do busao carai kkkkjjjjj   \n",
       "3                                       #joicetraidora   \n",
       "4                                          Pirralha!!!   \n",
       "..                                                 ...   \n",
       "495  rt @user bangu só existe dois climas: frio da ...   \n",
       "496  gastei tipo bicho esse mês e não posso mais ga...   \n",
       "497                    oi posso te chamar? — chama ue    \n",
       "498                                        Que exemplo   \n",
       "499  rt @user o primeiro requisito para fazer parte...   \n",
       "\n",
       "                   hatewords  \n",
       "0                        NaN  \n",
       "1                        NaN  \n",
       "2                       bixo  \n",
       "3                   traidora  \n",
       "4                   pirralha  \n",
       "..                       ...  \n",
       "495            porra,caralho  \n",
       "496                      NaN  \n",
       "497                      NaN  \n",
       "498                      NaN  \n",
       "499  mau,caráter,oportunista  \n",
       "\n",
       "[500 rows x 2 columns]"
      ]
     },
     "execution_count": 3,
     "metadata": {},
     "output_type": "execute_result"
    }
   ],
   "source": [
    "df_explain"
   ]
  },
  {
   "cell_type": "code",
   "execution_count": null,
   "id": "3bbd2d18",
   "metadata": {},
   "outputs": [],
   "source": [
    "def avaliar_explicacao_overlap(palavras_lime, palavras_verdadeiras, threshold=80):\n",
    "    if not palavras_verdadeiras:\n",
    "        return 1.0 if not palavras_lime else 0.0\n",
    "    acertos = 0\n",
    "    for anotada in palavras_verdadeiras:\n",
    "        if any(fuzz.ratio(anotada, lime) >= threshold for lime in palavras_lime):\n",
    "            acertos += 1\n",
    "    return acertos / len(palavras_verdadeiras)"
   ]
  }
 ],
 "metadata": {
  "kernelspec": {
   "display_name": "pln",
   "language": "python",
   "name": "python3"
  },
  "language_info": {
   "codemirror_mode": {
    "name": "ipython",
    "version": 3
   },
   "file_extension": ".py",
   "mimetype": "text/x-python",
   "name": "python",
   "nbconvert_exporter": "python",
   "pygments_lexer": "ipython3",
   "version": "3.12.0"
  }
 },
 "nbformat": 4,
 "nbformat_minor": 5
}
